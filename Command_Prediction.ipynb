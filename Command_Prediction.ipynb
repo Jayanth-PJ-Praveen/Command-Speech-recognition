{
  "nbformat": 4,
  "nbformat_minor": 0,
  "metadata": {
    "colab": {
      "name": "Command Prediction.ipynb",
      "provenance": [],
      "collapsed_sections": []
    },
    "kernelspec": {
      "display_name": "Python 3",
      "name": "python3"
    },
    "language_info": {
      "name": "python"
    }
  },
  "cells": [
    {
      "cell_type": "code",
      "metadata": {
        "colab": {
          "base_uri": "https://localhost:8080/"
        },
        "id": "HUNdvxecGqUZ",
        "outputId": "a1f98a1f-a9c9-45a7-a24d-b8c4d5c86d88"
      },
      "source": [
        "from google.colab import drive\n",
        "drive.mount('/content/drive')"
      ],
      "execution_count": 1,
      "outputs": [
        {
          "output_type": "stream",
          "text": [
            "Mounted at /content/drive\n"
          ],
          "name": "stdout"
        }
      ]
    },
    {
      "cell_type": "code",
      "metadata": {
        "id": "v3vyaCvbIqf7"
      },
      "source": [
        "import os\n",
        "import librosa   #for audio processing\n",
        "import IPython.display as ipd\n",
        "import matplotlib.pyplot as plt\n",
        "import numpy as np\n",
        "from scipy.io import wavfile #for audio processing\n",
        "import warnings\n",
        "warnings.filterwarnings(\"ignore\")"
      ],
      "execution_count": 2,
      "outputs": []
    },
    {
      "cell_type": "code",
      "metadata": {
        "id": "5BF3fb6CGyty"
      },
      "source": [
        "from keras.models import load_model\n",
        "model=load_model('/content/drive/MyDrive/pickle4/best_model.hdf5')"
      ],
      "execution_count": 3,
      "outputs": []
    },
    {
      "cell_type": "code",
      "metadata": {
        "id": "xEx1zTIkHUH3"
      },
      "source": [
        "import pickle\n",
        "pkl_file = open('/content/drive/MyDrive/pickle4/x_tr.pkl', 'rb')\n",
        "x_tr= pickle.load(pkl_file)\n",
        "pkl_file = open('/content/drive/MyDrive/pickle4/y_tr.pkl', 'rb')\n",
        "y_tr = pickle.load(pkl_file)\n",
        "pkl_file = open('/content/drive/MyDrive/pickle4/x_val.pkl', 'rb')\n",
        "x_val= pickle.load(pkl_file)\n",
        "pkl_file = open('/content/drive/MyDrive/pickle4/y_val.pkl', 'rb')\n",
        "y_val = pickle.load(pkl_file)\n",
        "pkl_file = open('/content/drive/MyDrive/pickle4/classes.pkl', 'rb')\n",
        "classes= pickle.load(pkl_file)\n",
        "pkl_file = open('/content/drive/MyDrive/pickle4/all_label.pkl', 'rb')\n",
        "all_label= pickle.load(pkl_file)"
      ],
      "execution_count": 4,
      "outputs": []
    },
    {
      "cell_type": "code",
      "metadata": {
        "id": "sN6TJ7t4HIkm"
      },
      "source": [
        "def predict(audio):\n",
        "    prob=model.predict(audio.reshape(1,16000,1))\n",
        "    index=np.argmax(prob[0])\n",
        "    return classes[index]"
      ],
      "execution_count": 5,
      "outputs": []
    },
    {
      "cell_type": "code",
      "metadata": {
        "colab": {
          "base_uri": "https://localhost:8080/"
        },
        "id": "JNzjlQzYHKip",
        "outputId": "835a1184-1a66-4f62-f103-6d0d7ef2f796"
      },
      "source": [
        "import random,numpy as np\n",
        "index=random.randint(0,len(x_val)-1)\n",
        "samples=x_val[index].ravel()\n",
        "print(\"Audio:\",classes[np.argmax(y_val[index])])\n",
        "print(\"Text:\",predict(samples))"
      ],
      "execution_count": 12,
      "outputs": [
        {
          "output_type": "stream",
          "text": [
            "Audio: happy\n",
            "Text: happy\n"
          ],
          "name": "stdout"
        }
      ]
    },
    {
      "cell_type": "code",
      "metadata": {
        "colab": {
          "base_uri": "https://localhost:8080/"
        },
        "id": "1JCXkkWRJoNE",
        "outputId": "796c4df4-ba90-4136-81ea-ee9ff1810f0b"
      },
      "source": [
        "import numpy\n",
        "y_pred = np.argmax(model.predict(x_val), axis=1)\n",
        "\n",
        "y_true=np.argmax(y_val,axis=1)\n",
        "test_acc = sum(y_pred == y_true) / len(y_true)\n",
        "test_acc\n",
        "print(f'Test set accuracy: {test_acc:.0%}')"
      ],
      "execution_count": 13,
      "outputs": [
        {
          "output_type": "stream",
          "text": [
            "Test set accuracy: 82%\n"
          ],
          "name": "stdout"
        }
      ]
    },
    {
      "cell_type": "code",
      "metadata": {
        "id": "WZIYwOohJopY"
      },
      "source": [
        ""
      ],
      "execution_count": null,
      "outputs": []
    }
  ]
}